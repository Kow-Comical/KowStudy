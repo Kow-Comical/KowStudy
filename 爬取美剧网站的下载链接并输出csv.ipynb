{
 "cells": [
  {
   "cell_type": "code",
   "execution_count": 1,
   "metadata": {},
   "outputs": [
    {
     "name": "stdout",
     "output_type": "stream",
     "text": [
      "Requirement already satisfied: requests in e:\\ana\\lib\\site-packages (2.22.0)\n",
      "Requirement already satisfied: chardet<3.1.0,>=3.0.2 in e:\\ana\\lib\\site-packages (from requests) (3.0.4)\n",
      "Requirement already satisfied: idna<2.9,>=2.5 in e:\\ana\\lib\\site-packages (from requests) (2.8)\n",
      "Requirement already satisfied: urllib3!=1.25.0,!=1.25.1,<1.26,>=1.21.1 in e:\\ana\\lib\\site-packages (from requests) (1.25.8)\n",
      "Requirement already satisfied: certifi>=2017.4.17 in e:\\ana\\lib\\site-packages (from requests) (2019.11.28)\n",
      "Note: you may need to restart the kernel to use updated packages.\n"
     ]
    }
   ],
   "source": [
    "pip install requests"
   ]
  },
  {
   "cell_type": "code",
   "execution_count": 2,
   "metadata": {},
   "outputs": [
    {
     "name": "stdout",
     "output_type": "stream",
     "text": [
      "Requirement already satisfied: BeautifulSoup4 in e:\\ana\\lib\\site-packages (4.8.2)\n",
      "Requirement already satisfied: soupsieve>=1.2 in e:\\ana\\lib\\site-packages (from BeautifulSoup4) (1.9.5)\n",
      "Note: you may need to restart the kernel to use updated packages.\n"
     ]
    }
   ],
   "source": [
    "pip install BeautifulSoup4"
   ]
  },
  {
   "cell_type": "code",
   "execution_count": 1,
   "metadata": {},
   "outputs": [],
   "source": [
    "import requests\n",
    "from bs4 import BeautifulSoup"
   ]
  },
  {
   "cell_type": "code",
   "execution_count": 13,
   "metadata": {},
   "outputs": [
    {
     "data": {
      "text/plain": [
       "'http://www.nnmeiju.com/movie/3204.html'"
      ]
     },
     "execution_count": 13,
     "metadata": {},
     "output_type": "execute_result"
    }
   ],
   "source": [
    "movie_name = '小谢尔顿'\n",
    "url = 'http://www.nnmeiju.com/'\n",
    "\n",
    "r = requests.get(url)\n",
    "r.encoding = 'utf-8'\n",
    "\n",
    "html = r.text\n",
    "soup = BeautifulSoup(html,\"lxml\")\n",
    "\n",
    "search_box = soup.find(class_=\"w-search-form show_hidden\")\n",
    "search_url = 'http://www.nnmeiju.com/'\n",
    "formdata = {'type':'text', 's':movie_name}\n",
    "r_r = requests.post(search_url, formdata)\n",
    "r_r.encoding = 'utf-8'\n",
    "r_html = r_r.text\n",
    "r_soup = BeautifulSoup(r_html, \"lxml\")\n",
    "movie_div_list = r_soup.find_all(class_='bt_img mi_ne_kd search_list')\n",
    "\n",
    "movie_url_list =[]\n",
    "\n",
    "for movie_div in movie_div_list:\n",
    "    movie_url = movie_div.a.attrs['href']\n",
    "    movie_url_list.append(movie_url)\n",
    "    \n",
    "movie_url"
   ]
  },
  {
   "cell_type": "code",
   "execution_count": 10,
   "metadata": {},
   "outputs": [],
   "source": []
  },
  {
   "cell_type": "code",
   "execution_count": 14,
   "metadata": {},
   "outputs": [],
   "source": [
    "for movie_url in movie_url_list:\n",
    "    # 构造详情页链接\n",
    "    # 直接 requests.get获取网页\n",
    "    r_m = requests.get(movie_url)\n",
    "    # 同样需要解码\n",
    "    r_m.encoding = 'utf-8'\n",
    "    # 获取网页源码并赋值给变量html\n",
    "    m_html = r_m.text\n",
    "\n",
    "    # # 首先还是用BeautifulSoup库来解析网页的源码\n",
    "    m_soup = BeautifulSoup(m_html, \"lxml\")\n",
    "    # 源码中的任何元素都可以用来find_all，比如你自己测试的id，还有class_\n",
    "    movie_down_list = m_soup.find_all('td')\n",
    "    # 创建一个空的列表down_url_list来存储搜索结果的详情页链接\n",
    "    down_url_list = []\n",
    "    # 继续循环爬取下载链接并保存到down_url_list\n",
    "    for movie_down in movie_down_list:\n",
    "        # 提取href中的下载链接\n",
    "        down_url = movie_down.a.attrs['href']\n",
    "        # 把下载链接保存到down_url_list中，并在每个链接后面加一个换行符'\\n'\n",
    "        down_url_list.append(down_url + '\\n')"
   ]
  },
  {
   "cell_type": "code",
   "execution_count": 17,
   "metadata": {},
   "outputs": [
    {
     "data": {
      "text/plain": [
       "[<td><a href=\"http://www.nnmeiju.com/index.php/bikan/\" style=\"color:#ff8800\">//// 1 6 T 美 剧 蓝 光 原 盘 免 下 载 收 藏 ////</a></td>,\n",
       " <td><a href=\"magnet:?xt=urn:btih:84383ca2bc267cb347ddb05cadb3962621684625&amp;dn=Young.Sheldon.S04E01.1080p.WEB.H264-CAKES&amp;tr=http%3A%2F%2Ftracker.trackerfix.com%3A80%2Fannounce&amp;tr=udp%3A%2F%2F9.rarbg.me%3A2910%2Fannounce&amp;tr=udp%3A%2F%2F9.rarbg.to%3A2810%2Fannounce\"><span style=\"color:#9D9D9D; float: left; margin-right: 7px;\"> <span class=\"label label-danger\">WEB-1080P</span> <span class=\"label label-warning\">644.07MB</span></span> <b>Young.Sheldon.S04E01.1080p.WEB.H264-CAKES</b></a></td>,\n",
       " <td><a href=\"magnet:?xt=urn:btih:b7f4393fd780bc82e0208dd5f9b00d4f80e15da2&amp;dn=Young.Sheldon.S04E01.Graduation.720p.AMZN.WEBRip.DDP5.1.x264-TOMMY&amp;tr=http%3A%2F%2Ftracker.trackerfix.com%3A80%2Fannounce&amp;tr=udp%3A%2F%2F9.rarbg.me%3A2990%2Fannounce&amp;tr=udp%3A%2F%2F9.rarbg.to%3A2930%2Fannounce\"><span style=\"color:#9D9D9D; float: left; margin-right: 7px;\"> <span class=\"label label-danger\">WEB-720P</span> <span class=\"label label-warning\">624.45MB</span></span> <b>Young.Sheldon.S04E01.Graduation.720p.AMZN.WEBRip.DDP5.1.x264-TOMMY</b></a></td>,\n",
       " <td><a href=\"magnet:?xt=urn:btih:1a4444ae9354ec509b939b0e83eccfd52819443a&amp;dn=Young.Sheldon.S04E01.720p.WEB.H264-CAKES&amp;tr=http%3A%2F%2Ftracker.trackerfix.com%3A80%2Fannounce&amp;tr=udp%3A%2F%2F9.rarbg.me%3A2900%2Fannounce&amp;tr=udp%3A%2F%2F9.rarbg.to%3A2830%2Fannounce\"><span style=\"color:#9D9D9D; float: left; margin-right: 7px;\"> <span class=\"label label-danger\">WEB-720P</span> <span class=\"label label-warning\">446.69MB</span></span> <b>Young.Sheldon.S04E01.720p.WEB.H264-CAKES</b></a></td>,\n",
       " <td><a href=\"magnet:?xt=urn:btih:b1095e23eec788d64b372060e1402b8cef3a747d&amp;dn=Young.Sheldon.S04E03.1080p.WEB.H264-GGWP&amp;tr=http%3A%2F%2Ftracker.trackerfix.com%3A80%2Fannounce&amp;tr=udp%3A%2F%2F9.rarbg.me%3A2950%2Fannounce&amp;tr=udp%3A%2F%2F9.rarbg.to%3A2910%2Fannounce\"><span style=\"color:#9D9D9D; float: left; margin-right: 7px;\"> <span class=\"label label-danger\">WEB-1080P</span> <span class=\"label label-warning\">1.01GB</span></span> <b>Young.Sheldon.S04E03.1080p.WEB.H264-GGWP</b></a></td>,\n",
       " <td><a href=\"magnet:?xt=urn:btih:c1d51e54f44bb0cf228c60f25aff013ce0ea3b4c&amp;dn=Young.Sheldon.S04E03.720p.WEB.H264-GGWP&amp;tr=http%3A%2F%2Ftracker.trackerfix.com%3A80%2Fannounce&amp;tr=udp%3A%2F%2F9.rarbg.me%3A2720%2Fannounce&amp;tr=udp%3A%2F%2F9.rarbg.to%3A2990%2Fannounce\"><span style=\"color:#9D9D9D; float: left; margin-right: 7px;\"> <span class=\"label label-danger\">WEB-720P</span> <span class=\"label label-warning\">528.68MB</span></span> <b>Young.Sheldon.S04E03.720p.WEB.H264-GGWP</b></a></td>,\n",
       " <td><a href=\"magnet:?xt=urn:btih:d04ebf3ed40f9e2fd0d7646e6c4bc3112b14a839&amp;dn=Young.Sheldon.S04E03.720p.HDTV.x264-SYNCOPY&amp;tr=http%3A%2F%2Ftracker.trackerfix.com%3A80%2Fannounce&amp;tr=udp%3A%2F%2F9.rarbg.me%3A2730%2Fannounce&amp;tr=udp%3A%2F%2F9.rarbg.to%3A2790%2Fannounce\"><span style=\"color:#9D9D9D; float: left; margin-right: 7px;\"> <span class=\"label label-danger\">HDTV/HDRip/DVDRip</span> <span class=\"label label-warning\">341.69MB</span></span> <b>Young.Sheldon.S04E03.720p.HDTV.x264-SYNCOPY</b></a></td>,\n",
       " <td><a href=\"magnet:?xt=urn:btih:fc656c5812548c720ecf29044cdb9e8821f25abb&amp;dn=Young.Sheldon.S04E03.720p.AMZN.WEBRip.DDP5.1.x264-TOMMY&amp;tr=http%3A%2F%2Ftracker.trackerfix.com%3A80%2Fannounce&amp;tr=udp%3A%2F%2F9.rarbg.me%3A2940%2Fannounce&amp;tr=udp%3A%2F%2F9.rarbg.to%3A2760%2Fannounce\"><span style=\"color:#9D9D9D; float: left; margin-right: 7px;\"> <span class=\"label label-danger\">WEB-720P</span> <span class=\"label label-warning\">553.48MB</span></span> <b>Young.Sheldon.S04E03.720p.AMZN.WEBRip.DDP5.1.x264-TOMMY</b></a></td>,\n",
       " <td><a href=\"magnet:?xt=urn:btih:83e054e77d96a7a1deff8d3f45ebc2308d6bb395&amp;dn=Young.Sheldon.S04E05.720p.WEB.H264-GGWP%5Brarbg%5D&amp;tr=http%3A%2F%2Ftracker.trackerfix.com%3A80%2Fannounce&amp;tr=udp%3A%2F%2F9.rarbg.me%3A2930%2Fannounce&amp;tr=udp%3A%2F%2F9.rarbg.to%3A2990%2Fannounce\"><span style=\"color:#9D9D9D; float: left; margin-right: 7px;\"> <span class=\"label label-danger\">WEB-720P</span> <span class=\"label label-warning\">501.97MB</span></span> <b>Young.Sheldon.S04E05.720p.WEB.H264-GGWP[rarbg]</b></a></td>,\n",
       " <td><a href=\"magnet:?xt=urn:btih:8503138e0813d505aedb107ffde244d930780eee&amp;dn=Young.Sheldon.S04E05.720p.HDTV.x264-SYNCOPY&amp;tr=http%3A%2F%2Ftracker.trackerfix.com%3A80%2Fannounce&amp;tr=udp%3A%2F%2F9.rarbg.me%3A2860%2Fannounce&amp;tr=udp%3A%2F%2F9.rarbg.to%3A2990%2Fannounce\"><span style=\"color:#9D9D9D; float: left; margin-right: 7px;\"> <span class=\"label label-danger\">HDTV/HDRip/DVDRip</span> <span class=\"label label-warning\">343.63MB</span></span> <b>Young.Sheldon.S04E05.720p.HDTV.x264-SYNCOPY</b></a></td>,\n",
       " <td><a href=\"magnet:?xt=urn:btih:83e054e77d96a7a1deff8d3f45ebc2308d6bb395&amp;dn=Young.Sheldon.S04E05.720p.WEB.H264-GGWP&amp;tr=http%3A%2F%2Ftracker.trackerfix.com%3A80%2Fannounce&amp;tr=udp%3A%2F%2F9.rarbg.me%3A2930%2Fannounce&amp;tr=udp%3A%2F%2F9.rarbg.to%3A2990%2Fannounce\"><span style=\"color:#9D9D9D; float: left; margin-right: 7px;\"> <span class=\"label label-danger\">WEB-720P</span> <span class=\"label label-warning\">501.97MB</span></span> <b>Young.Sheldon.S04E05.720p.WEB.H264-GGWP</b></a></td>,\n",
       " <td><a href=\"magnet:?xt=urn:btih:db48da22d1ddaf986f71ab5a177e20e5474872c9&amp;dn=Young.Sheldon.S04E02.1080p.WEB.H264-GGWP&amp;tr=http%3A%2F%2Ftracker.trackerfix.com%3A80%2Fannounce&amp;tr=udp%3A%2F%2F9.rarbg.me%3A2820%2Fannounce&amp;tr=udp%3A%2F%2F9.rarbg.to%3A2860%2Fannounce\"><span style=\"color:#9D9D9D; float: left; margin-right: 7px;\"> <span class=\"label label-danger\">WEB-1080P</span> <span class=\"label label-warning\">1.26GB</span></span> <b>Young.Sheldon.S04E02.1080p.WEB.H264-GGWP</b></a></td>,\n",
       " <td><a href=\"magnet:?xt=urn:btih:28fe758e71c67521c1da917184d827963d8cc9f8&amp;dn=Young.Sheldon.S04E02.1080p.AMZN.WEBRip.DDP5.1.x264-TOMMY&amp;tr=http%3A%2F%2Ftracker.trackerfix.com%3A80%2Fannounce&amp;tr=udp%3A%2F%2F9.rarbg.me%3A2970%2Fannounce&amp;tr=udp%3A%2F%2F9.rarbg.to%3A2750%2Fannounce\"><span style=\"color:#9D9D9D; float: left; margin-right: 7px;\"> <span class=\"label label-danger\">WEB-1080P</span> <span class=\"label label-warning\">1.26GB</span></span> <b>Young.Sheldon.S04E02.1080p.AMZN.WEBRip.DDP5.1.x264-TOMMY</b></a></td>,\n",
       " <td><a href=\"magnet:?xt=urn:btih:afd03b26b67518d88e700cd5df759ee123ffbf0d&amp;dn=Young.Sheldon.S04E02.720p.WEB.H264-GGWP&amp;tr=http%3A%2F%2Ftracker.trackerfix.com%3A80%2Fannounce&amp;tr=udp%3A%2F%2F9.rarbg.me%3A2910%2Fannounce&amp;tr=udp%3A%2F%2F9.rarbg.to%3A2720%2Fannounce\"><span style=\"color:#9D9D9D; float: left; margin-right: 7px;\"> <span class=\"label label-danger\">WEB-720P</span> <span class=\"label label-warning\">629.33MB</span></span> <b>Young.Sheldon.S04E02.720p.WEB.H264-GGWP</b></a></td>,\n",
       " <td><a href=\"magnet:?xt=urn:btih:ed41bc3528e5556112b47f43059d43b7e20aab2d&amp;dn=Young.Sheldon.S04E02.720p.AMZN.WEBRip.DDP5.1.x264-TOMMY&amp;tr=http%3A%2F%2Ftracker.trackerfix.com%3A80%2Fannounce&amp;tr=udp%3A%2F%2F9.rarbg.me%3A2870%2Fannounce&amp;tr=udp%3A%2F%2F9.rarbg.to%3A2830%2Fannounce\"><span style=\"color:#9D9D9D; float: left; margin-right: 7px;\"> <span class=\"label label-danger\">WEB-720P</span> <span class=\"label label-warning\">651.66MB</span></span> <b>Young.Sheldon.S04E02.720p.AMZN.WEBRip.DDP5.1.x264-TOMMY</b></a></td>,\n",
       " <td><a href=\"magnet:?xt=urn:btih:952fed28e28d13a365a04dd722a9b6db9b319193&amp;dn=Young.Sheldon.S04E02.720p.HDTV.x264-SYNCOPY&amp;tr=http%3A%2F%2Ftracker.trackerfix.com%3A80%2Fannounce&amp;tr=udp%3A%2F%2F9.rarbg.me%3A2950%2Fannounce&amp;tr=udp%3A%2F%2F9.rarbg.to%3A2750%2Fannounce\"><span style=\"color:#9D9D9D; float: left; margin-right: 7px;\"> <span class=\"label label-danger\">HDTV/HDRip/DVDRip</span> <span class=\"label label-warning\">364.62MB</span></span> <b>Young.Sheldon.S04E02.720p.HDTV.x264-SYNCOPY</b></a></td>,\n",
       " <td><a href=\"magnet:?xt=urn:btih:9e9b317535ce33632ce3e20fde4423a2b7e324b4&amp;dn=Young.Sheldon.S04E01.720p.HDTV.x264-SYNCOPY&amp;tr=http%3A%2F%2Ftracker.trackerfix.com%3A80%2Fannounce&amp;tr=udp%3A%2F%2F9.rarbg.me%3A2840%2Fannounce&amp;tr=udp%3A%2F%2F9.rarbg.to%3A2770%2Fannounce\"><span style=\"color:#9D9D9D; float: left; margin-right: 7px;\"> <span class=\"label label-danger\">HDRip</span> <span class=\"label label-warning\">338.8MB</span></span> <b>Young.Sheldon.S04E01.720p.HDTV.x264-SYNCOPY</b></a></td>,\n",
       " <td><a href=\"magnet:?xt=urn:btih:9e3b934ff9ef17404101fd5ecf3a0838b3ec3e88&amp;dn=Young.Sheldon.S04E01.Graduation.1080p.AMZN.WEBRip.DDP5.1.x264-TOMMY&amp;tr=http%3A%2F%2Ftracker.trackerfix.com%3A80%2Fannounce&amp;tr=udp%3A%2F%2F9.rarbg.me%3A2810%2Fannounce&amp;tr=udp%3A%2F%2F9.rarbg.to%3A2740%2Fannounce\"><span style=\"color:#9D9D9D; float: left; margin-right: 7px;\"> <span class=\"label label-danger\">WEB-1080P</span> <span class=\"label label-warning\">1.25GB</span></span> <b>Young.Sheldon.S04E01.Graduation.1080p.AMZN.WEBRip.DDP5.1.x264-TOMMY</b></a></td>,\n",
       " <td><a href=\"http://www.ddzimu.com/download/index.php?id=30467486\" target=\"_blank\"><span style=\"color:#9D9D9D; float: left; margin-right: 7px;\"> <span class=\"label label-warning\">字 幕</span></span> <b>http://www.ddzimu.com/download/index.php?id=30467486</b> </a></td>]"
      ]
     },
     "execution_count": 17,
     "metadata": {},
     "output_type": "execute_result"
    }
   ],
   "source": [
    "movie_down_list"
   ]
  },
  {
   "cell_type": "code",
   "execution_count": 15,
   "metadata": {},
   "outputs": [
    {
     "data": {
      "text/plain": [
       "['http://www.nnmeiju.com/index.php/bikan/\\n',\n",
       " 'magnet:?xt=urn:btih:84383ca2bc267cb347ddb05cadb3962621684625&dn=Young.Sheldon.S04E01.1080p.WEB.H264-CAKES&tr=http%3A%2F%2Ftracker.trackerfix.com%3A80%2Fannounce&tr=udp%3A%2F%2F9.rarbg.me%3A2910%2Fannounce&tr=udp%3A%2F%2F9.rarbg.to%3A2810%2Fannounce\\n',\n",
       " 'magnet:?xt=urn:btih:b7f4393fd780bc82e0208dd5f9b00d4f80e15da2&dn=Young.Sheldon.S04E01.Graduation.720p.AMZN.WEBRip.DDP5.1.x264-TOMMY&tr=http%3A%2F%2Ftracker.trackerfix.com%3A80%2Fannounce&tr=udp%3A%2F%2F9.rarbg.me%3A2990%2Fannounce&tr=udp%3A%2F%2F9.rarbg.to%3A2930%2Fannounce\\n',\n",
       " 'magnet:?xt=urn:btih:1a4444ae9354ec509b939b0e83eccfd52819443a&dn=Young.Sheldon.S04E01.720p.WEB.H264-CAKES&tr=http%3A%2F%2Ftracker.trackerfix.com%3A80%2Fannounce&tr=udp%3A%2F%2F9.rarbg.me%3A2900%2Fannounce&tr=udp%3A%2F%2F9.rarbg.to%3A2830%2Fannounce\\n',\n",
       " 'magnet:?xt=urn:btih:b1095e23eec788d64b372060e1402b8cef3a747d&dn=Young.Sheldon.S04E03.1080p.WEB.H264-GGWP&tr=http%3A%2F%2Ftracker.trackerfix.com%3A80%2Fannounce&tr=udp%3A%2F%2F9.rarbg.me%3A2950%2Fannounce&tr=udp%3A%2F%2F9.rarbg.to%3A2910%2Fannounce\\n',\n",
       " 'magnet:?xt=urn:btih:c1d51e54f44bb0cf228c60f25aff013ce0ea3b4c&dn=Young.Sheldon.S04E03.720p.WEB.H264-GGWP&tr=http%3A%2F%2Ftracker.trackerfix.com%3A80%2Fannounce&tr=udp%3A%2F%2F9.rarbg.me%3A2720%2Fannounce&tr=udp%3A%2F%2F9.rarbg.to%3A2990%2Fannounce\\n',\n",
       " 'magnet:?xt=urn:btih:d04ebf3ed40f9e2fd0d7646e6c4bc3112b14a839&dn=Young.Sheldon.S04E03.720p.HDTV.x264-SYNCOPY&tr=http%3A%2F%2Ftracker.trackerfix.com%3A80%2Fannounce&tr=udp%3A%2F%2F9.rarbg.me%3A2730%2Fannounce&tr=udp%3A%2F%2F9.rarbg.to%3A2790%2Fannounce\\n',\n",
       " 'magnet:?xt=urn:btih:fc656c5812548c720ecf29044cdb9e8821f25abb&dn=Young.Sheldon.S04E03.720p.AMZN.WEBRip.DDP5.1.x264-TOMMY&tr=http%3A%2F%2Ftracker.trackerfix.com%3A80%2Fannounce&tr=udp%3A%2F%2F9.rarbg.me%3A2940%2Fannounce&tr=udp%3A%2F%2F9.rarbg.to%3A2760%2Fannounce\\n',\n",
       " 'magnet:?xt=urn:btih:83e054e77d96a7a1deff8d3f45ebc2308d6bb395&dn=Young.Sheldon.S04E05.720p.WEB.H264-GGWP%5Brarbg%5D&tr=http%3A%2F%2Ftracker.trackerfix.com%3A80%2Fannounce&tr=udp%3A%2F%2F9.rarbg.me%3A2930%2Fannounce&tr=udp%3A%2F%2F9.rarbg.to%3A2990%2Fannounce\\n',\n",
       " 'magnet:?xt=urn:btih:8503138e0813d505aedb107ffde244d930780eee&dn=Young.Sheldon.S04E05.720p.HDTV.x264-SYNCOPY&tr=http%3A%2F%2Ftracker.trackerfix.com%3A80%2Fannounce&tr=udp%3A%2F%2F9.rarbg.me%3A2860%2Fannounce&tr=udp%3A%2F%2F9.rarbg.to%3A2990%2Fannounce\\n',\n",
       " 'magnet:?xt=urn:btih:83e054e77d96a7a1deff8d3f45ebc2308d6bb395&dn=Young.Sheldon.S04E05.720p.WEB.H264-GGWP&tr=http%3A%2F%2Ftracker.trackerfix.com%3A80%2Fannounce&tr=udp%3A%2F%2F9.rarbg.me%3A2930%2Fannounce&tr=udp%3A%2F%2F9.rarbg.to%3A2990%2Fannounce\\n',\n",
       " 'magnet:?xt=urn:btih:db48da22d1ddaf986f71ab5a177e20e5474872c9&dn=Young.Sheldon.S04E02.1080p.WEB.H264-GGWP&tr=http%3A%2F%2Ftracker.trackerfix.com%3A80%2Fannounce&tr=udp%3A%2F%2F9.rarbg.me%3A2820%2Fannounce&tr=udp%3A%2F%2F9.rarbg.to%3A2860%2Fannounce\\n',\n",
       " 'magnet:?xt=urn:btih:28fe758e71c67521c1da917184d827963d8cc9f8&dn=Young.Sheldon.S04E02.1080p.AMZN.WEBRip.DDP5.1.x264-TOMMY&tr=http%3A%2F%2Ftracker.trackerfix.com%3A80%2Fannounce&tr=udp%3A%2F%2F9.rarbg.me%3A2970%2Fannounce&tr=udp%3A%2F%2F9.rarbg.to%3A2750%2Fannounce\\n',\n",
       " 'magnet:?xt=urn:btih:afd03b26b67518d88e700cd5df759ee123ffbf0d&dn=Young.Sheldon.S04E02.720p.WEB.H264-GGWP&tr=http%3A%2F%2Ftracker.trackerfix.com%3A80%2Fannounce&tr=udp%3A%2F%2F9.rarbg.me%3A2910%2Fannounce&tr=udp%3A%2F%2F9.rarbg.to%3A2720%2Fannounce\\n',\n",
       " 'magnet:?xt=urn:btih:ed41bc3528e5556112b47f43059d43b7e20aab2d&dn=Young.Sheldon.S04E02.720p.AMZN.WEBRip.DDP5.1.x264-TOMMY&tr=http%3A%2F%2Ftracker.trackerfix.com%3A80%2Fannounce&tr=udp%3A%2F%2F9.rarbg.me%3A2870%2Fannounce&tr=udp%3A%2F%2F9.rarbg.to%3A2830%2Fannounce\\n',\n",
       " 'magnet:?xt=urn:btih:952fed28e28d13a365a04dd722a9b6db9b319193&dn=Young.Sheldon.S04E02.720p.HDTV.x264-SYNCOPY&tr=http%3A%2F%2Ftracker.trackerfix.com%3A80%2Fannounce&tr=udp%3A%2F%2F9.rarbg.me%3A2950%2Fannounce&tr=udp%3A%2F%2F9.rarbg.to%3A2750%2Fannounce\\n',\n",
       " 'magnet:?xt=urn:btih:9e9b317535ce33632ce3e20fde4423a2b7e324b4&dn=Young.Sheldon.S04E01.720p.HDTV.x264-SYNCOPY&tr=http%3A%2F%2Ftracker.trackerfix.com%3A80%2Fannounce&tr=udp%3A%2F%2F9.rarbg.me%3A2840%2Fannounce&tr=udp%3A%2F%2F9.rarbg.to%3A2770%2Fannounce\\n',\n",
       " 'magnet:?xt=urn:btih:9e3b934ff9ef17404101fd5ecf3a0838b3ec3e88&dn=Young.Sheldon.S04E01.Graduation.1080p.AMZN.WEBRip.DDP5.1.x264-TOMMY&tr=http%3A%2F%2Ftracker.trackerfix.com%3A80%2Fannounce&tr=udp%3A%2F%2F9.rarbg.me%3A2810%2Fannounce&tr=udp%3A%2F%2F9.rarbg.to%3A2740%2Fannounce\\n',\n",
       " 'http://www.ddzimu.com/download/index.php?id=30467486\\n']"
      ]
     },
     "execution_count": 15,
     "metadata": {},
     "output_type": "execute_result"
    }
   ],
   "source": [
    "down_url_list"
   ]
  },
  {
   "cell_type": "code",
   "execution_count": 20,
   "metadata": {},
   "outputs": [],
   "source": [
    "from pandas import DataFrame\n",
    "\n",
    "df = DataFrame (down_url_list,columns=['Download_Link'])\n",
    "\n",
    "df=df[ ~ df['Download_Link'].str.contains('http://')]"
   ]
  },
  {
   "cell_type": "code",
   "execution_count": 21,
   "metadata": {},
   "outputs": [
    {
     "data": {
      "text/html": [
       "<div>\n",
       "<style scoped>\n",
       "    .dataframe tbody tr th:only-of-type {\n",
       "        vertical-align: middle;\n",
       "    }\n",
       "\n",
       "    .dataframe tbody tr th {\n",
       "        vertical-align: top;\n",
       "    }\n",
       "\n",
       "    .dataframe thead th {\n",
       "        text-align: right;\n",
       "    }\n",
       "</style>\n",
       "<table border=\"1\" class=\"dataframe\">\n",
       "  <thead>\n",
       "    <tr style=\"text-align: right;\">\n",
       "      <th></th>\n",
       "      <th>Download_Link</th>\n",
       "    </tr>\n",
       "  </thead>\n",
       "  <tbody>\n",
       "    <tr>\n",
       "      <th>1</th>\n",
       "      <td>magnet:?xt=urn:btih:84383ca2bc267cb347ddb05cad...</td>\n",
       "    </tr>\n",
       "    <tr>\n",
       "      <th>2</th>\n",
       "      <td>magnet:?xt=urn:btih:b7f4393fd780bc82e0208dd5f9...</td>\n",
       "    </tr>\n",
       "    <tr>\n",
       "      <th>3</th>\n",
       "      <td>magnet:?xt=urn:btih:1a4444ae9354ec509b939b0e83...</td>\n",
       "    </tr>\n",
       "    <tr>\n",
       "      <th>4</th>\n",
       "      <td>magnet:?xt=urn:btih:b1095e23eec788d64b372060e1...</td>\n",
       "    </tr>\n",
       "    <tr>\n",
       "      <th>5</th>\n",
       "      <td>magnet:?xt=urn:btih:c1d51e54f44bb0cf228c60f25a...</td>\n",
       "    </tr>\n",
       "    <tr>\n",
       "      <th>6</th>\n",
       "      <td>magnet:?xt=urn:btih:d04ebf3ed40f9e2fd0d7646e6c...</td>\n",
       "    </tr>\n",
       "    <tr>\n",
       "      <th>7</th>\n",
       "      <td>magnet:?xt=urn:btih:fc656c5812548c720ecf29044c...</td>\n",
       "    </tr>\n",
       "    <tr>\n",
       "      <th>8</th>\n",
       "      <td>magnet:?xt=urn:btih:83e054e77d96a7a1deff8d3f45...</td>\n",
       "    </tr>\n",
       "    <tr>\n",
       "      <th>9</th>\n",
       "      <td>magnet:?xt=urn:btih:8503138e0813d505aedb107ffd...</td>\n",
       "    </tr>\n",
       "    <tr>\n",
       "      <th>10</th>\n",
       "      <td>magnet:?xt=urn:btih:83e054e77d96a7a1deff8d3f45...</td>\n",
       "    </tr>\n",
       "    <tr>\n",
       "      <th>11</th>\n",
       "      <td>magnet:?xt=urn:btih:db48da22d1ddaf986f71ab5a17...</td>\n",
       "    </tr>\n",
       "    <tr>\n",
       "      <th>12</th>\n",
       "      <td>magnet:?xt=urn:btih:28fe758e71c67521c1da917184...</td>\n",
       "    </tr>\n",
       "    <tr>\n",
       "      <th>13</th>\n",
       "      <td>magnet:?xt=urn:btih:afd03b26b67518d88e700cd5df...</td>\n",
       "    </tr>\n",
       "    <tr>\n",
       "      <th>14</th>\n",
       "      <td>magnet:?xt=urn:btih:ed41bc3528e5556112b47f4305...</td>\n",
       "    </tr>\n",
       "    <tr>\n",
       "      <th>15</th>\n",
       "      <td>magnet:?xt=urn:btih:952fed28e28d13a365a04dd722...</td>\n",
       "    </tr>\n",
       "    <tr>\n",
       "      <th>16</th>\n",
       "      <td>magnet:?xt=urn:btih:9e9b317535ce33632ce3e20fde...</td>\n",
       "    </tr>\n",
       "    <tr>\n",
       "      <th>17</th>\n",
       "      <td>magnet:?xt=urn:btih:9e3b934ff9ef17404101fd5ecf...</td>\n",
       "    </tr>\n",
       "  </tbody>\n",
       "</table>\n",
       "</div>"
      ],
      "text/plain": [
       "                                        Download_Link\n",
       "1   magnet:?xt=urn:btih:84383ca2bc267cb347ddb05cad...\n",
       "2   magnet:?xt=urn:btih:b7f4393fd780bc82e0208dd5f9...\n",
       "3   magnet:?xt=urn:btih:1a4444ae9354ec509b939b0e83...\n",
       "4   magnet:?xt=urn:btih:b1095e23eec788d64b372060e1...\n",
       "5   magnet:?xt=urn:btih:c1d51e54f44bb0cf228c60f25a...\n",
       "6   magnet:?xt=urn:btih:d04ebf3ed40f9e2fd0d7646e6c...\n",
       "7   magnet:?xt=urn:btih:fc656c5812548c720ecf29044c...\n",
       "8   magnet:?xt=urn:btih:83e054e77d96a7a1deff8d3f45...\n",
       "9   magnet:?xt=urn:btih:8503138e0813d505aedb107ffd...\n",
       "10  magnet:?xt=urn:btih:83e054e77d96a7a1deff8d3f45...\n",
       "11  magnet:?xt=urn:btih:db48da22d1ddaf986f71ab5a17...\n",
       "12  magnet:?xt=urn:btih:28fe758e71c67521c1da917184...\n",
       "13  magnet:?xt=urn:btih:afd03b26b67518d88e700cd5df...\n",
       "14  magnet:?xt=urn:btih:ed41bc3528e5556112b47f4305...\n",
       "15  magnet:?xt=urn:btih:952fed28e28d13a365a04dd722...\n",
       "16  magnet:?xt=urn:btih:9e9b317535ce33632ce3e20fde...\n",
       "17  magnet:?xt=urn:btih:9e3b934ff9ef17404101fd5ecf..."
      ]
     },
     "execution_count": 21,
     "metadata": {},
     "output_type": "execute_result"
    }
   ],
   "source": [
    "df"
   ]
  },
  {
   "cell_type": "code",
   "execution_count": 22,
   "metadata": {},
   "outputs": [],
   "source": [
    "#XXX+\".cvsv\"就是用具体的variable来命名文件名\n",
    "\n",
    "df.to_csv(movie_name+\".csv\", index = False)"
   ]
  },
  {
   "cell_type": "code",
   "execution_count": 23,
   "metadata": {},
   "outputs": [],
   "source": [
    "#接下来要做的就是如何输入list，完成mutitask"
   ]
  }
 ],
 "metadata": {
  "kernelspec": {
   "display_name": "Python 3",
   "language": "python",
   "name": "python3"
  },
  "language_info": {
   "codemirror_mode": {
    "name": "ipython",
    "version": 3
   },
   "file_extension": ".py",
   "mimetype": "text/x-python",
   "name": "python",
   "nbconvert_exporter": "python",
   "pygments_lexer": "ipython3",
   "version": "3.7.6"
  }
 },
 "nbformat": 4,
 "nbformat_minor": 4
}
